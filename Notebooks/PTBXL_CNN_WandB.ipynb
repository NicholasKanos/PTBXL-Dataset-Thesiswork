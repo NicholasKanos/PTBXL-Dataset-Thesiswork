{
 "cells": [
  {
   "cell_type": "code",
   "execution_count": 1,
   "id": "4e69b3a2-02ad-4633-b550-335901f3b145",
   "metadata": {},
   "outputs": [],
   "source": [
    "# 1. Imports\n",
    "import os\n",
    "import numpy as np\n",
    "import pandas as pd\n",
    "import torch\n",
    "import torch.nn as nn\n",
    "from torch.utils.data import Dataset, DataLoader\n",
    "from sklearn.preprocessing import MultiLabelBinarizer, StandardScaler\n",
    "from sklearn.model_selection import train_test_split\n",
    "from sklearn.metrics import classification_report, roc_auc_score\n",
    "import wfdb\n",
    "import ast\n",
    "import time\n",
    "from tqdm import tqdm\n",
    "import wandb \n",
    "wandb.finish()"
   ]
  },
  {
   "cell_type": "code",
   "execution_count": 2,
   "id": "5ffadc64-abbd-480f-ba9c-f779ee26a18f",
   "metadata": {},
   "outputs": [],
   "source": [
    "# 2. Load CSVs\n",
    "ptbxl_path = \"/media/nicholas/Storage/Datasets/ptb-xl-a-large-publicly-available-electrocardiography-dataset-1.0.3/ptbxl_database.csv\"\n",
    "scp_path = \"/media/nicholas/Storage/Datasets/ptb-xl-a-large-publicly-available-electrocardiography-dataset-1.0.3/scp_statements.csv\"\n",
    "waveform_path = \"/media/nicholas/Storage/Datasets/ptb-xl-a-large-publicly-available-electrocardiography-dataset-1.0.3\"\n",
    "\n",
    "df = pd.read_csv(ptbxl_path)\n",
    "scp_df = pd.read_csv(scp_path, index_col=0)"
   ]
  },
  {
   "cell_type": "code",
   "execution_count": 3,
   "id": "84678dce-b15b-48bd-97cf-6181ebda20e3",
   "metadata": {},
   "outputs": [],
   "source": [
    "# Parse SCP codes\n",
    "df['scp_codes'] = df['scp_codes'].apply(ast.literal_eval)\n",
    "df['scp_keys'] = df['scp_codes'].apply(lambda x: list(x.keys()))\n",
    "scp_df = scp_df[scp_df.diagnostic == 1]"
   ]
  },
  {
   "cell_type": "code",
   "execution_count": 4,
   "id": "78ebd052-eacc-4794-8eea-b012f9b3d2b2",
   "metadata": {},
   "outputs": [],
   "source": [
    "# 3. Select Top 10\n",
    "target_labels = ['NORM', 'SR', 'AFIB', 'PVC', 'LVH', 'ABQRS', 'IMI', 'ASMI', 'LAFB', 'IRBBB']"
   ]
  },
  {
   "cell_type": "code",
   "execution_count": 5,
   "id": "bcc29eac-8384-4c7e-8fbb-e759bc778e1f",
   "metadata": {},
   "outputs": [],
   "source": [
    "# Filter dataset\n",
    "df['scp_filtered'] = df['scp_keys'].apply(lambda codes: [code for code in codes if code in target_labels])\n",
    "df = df[df['scp_filtered'].map(len) > 0]"
   ]
  },
  {
   "cell_type": "code",
   "execution_count": 6,
   "id": "d35e0e15-e27b-41fb-a203-28c8619f40e2",
   "metadata": {},
   "outputs": [],
   "source": [
    "# Binarize\n",
    "mlb = MultiLabelBinarizer(classes=target_labels)\n",
    "y = mlb.fit_transform(df['scp_filtered'])"
   ]
  },
  {
   "cell_type": "code",
   "execution_count": 7,
   "id": "2649e295-a4de-402f-846a-2fd4e93bef7b",
   "metadata": {},
   "outputs": [],
   "source": [
    "# 4. Split\n",
    "X_train, X_test, y_train, y_test = train_test_split(df, y, test_size=0.2, random_state=42)"
   ]
  },
  {
   "cell_type": "code",
   "execution_count": 8,
   "id": "7c628867-e778-4444-a8b1-a7cf6a1c1f99",
   "metadata": {},
   "outputs": [],
   "source": [
    "# 5. Dataset\n",
    "class PTBXL_Dataset(Dataset):\n",
    "    def __init__(self, df, labels, base_dir, signal_len=5000):\n",
    "        self.df = df\n",
    "        self.labels = labels\n",
    "        self.base_dir = base_dir\n",
    "        self.signal_len = signal_len\n",
    "\n",
    "    def __len__(self):\n",
    "        return len(self.df)\n",
    "\n",
    "    def __getitem__(self, idx):\n",
    "        row = self.df.iloc[idx]\n",
    "        path = os.path.join(self.base_dir, row['filename_lr'])\n",
    "        record = wfdb.rdrecord(path)\n",
    "        signal = record.p_signal.T\n",
    "\n",
    "        if signal.shape[1] < self.signal_len:\n",
    "            pad = self.signal_len - signal.shape[1]\n",
    "            signal = np.pad(signal, ((0, 0), (0, pad)), 'constant')\n",
    "        else:\n",
    "            signal = signal[:, :self.signal_len]\n",
    "\n",
    "        return torch.tensor(signal, dtype=torch.float32), torch.tensor(self.labels[idx], dtype=torch.float32)\n",
    "\n",
    "train_dataset = PTBXL_Dataset(X_train, y_train, waveform_path)\n",
    "test_dataset = PTBXL_Dataset(X_test, y_test, waveform_path)\n",
    "\n",
    "train_loader = DataLoader(train_dataset, batch_size=32, shuffle=True, num_workers=4, pin_memory=True)\n",
    "test_loader = DataLoader(test_dataset, batch_size=32, num_workers=4, pin_memory=True)"
   ]
  },
  {
   "cell_type": "code",
   "execution_count": 9,
   "id": "0980c9f0-ef05-44c5-9eb5-e067ba65dc20",
   "metadata": {},
   "outputs": [],
   "source": [
    "# 6. CNN Model\n",
    "class ECG_CNN(nn.Module):\n",
    "    def __init__(self, num_classes):\n",
    "        super().__init__()\n",
    "        self.cnn = nn.Sequential(\n",
    "            nn.Conv1d(12, 32, kernel_size=7, padding=3),\n",
    "            nn.ReLU(),\n",
    "            nn.MaxPool1d(2),\n",
    "            nn.Conv1d(32, 64, kernel_size=5, padding=2),\n",
    "            nn.ReLU(),\n",
    "            nn.MaxPool1d(2),\n",
    "            nn.Conv1d(64, 128, kernel_size=3, padding=1),\n",
    "            nn.ReLU(),\n",
    "            nn.AdaptiveAvgPool1d(1)\n",
    "        )\n",
    "        self.fc = nn.Sequential(\n",
    "            nn.Linear(128, 64),\n",
    "            nn.ReLU(),\n",
    "            nn.Linear(64, num_classes)\n",
    "        )\n",
    "\n",
    "    def forward(self, x):\n",
    "        x = self.cnn(x)\n",
    "        x = x.view(x.size(0), -1)\n",
    "        x = self.fc(x)\n",
    "        return x"
   ]
  },
  {
   "cell_type": "code",
   "execution_count": 10,
   "id": "3abab6c1-3992-42f1-b0a0-c6885e4519a4",
   "metadata": {},
   "outputs": [
    {
     "name": "stderr",
     "output_type": "stream",
     "text": [
      "\u001b[34m\u001b[1mwandb\u001b[0m: Currently logged in as: \u001b[33mngkanos\u001b[0m (\u001b[33mngkanos-youngstown-state-university\u001b[0m) to \u001b[32mhttps://api.wandb.ai\u001b[0m. Use \u001b[1m`wandb login --relogin`\u001b[0m to force relogin\n"
     ]
    },
    {
     "data": {
      "text/html": [
       "Tracking run with wandb version 0.19.11"
      ],
      "text/plain": [
       "<IPython.core.display.HTML object>"
      ]
     },
     "metadata": {},
     "output_type": "display_data"
    },
    {
     "data": {
      "text/html": [
       "Run data is saved locally in <code>/home/nicholas/wandb/run-20250601_005227-7e245iwa</code>"
      ],
      "text/plain": [
       "<IPython.core.display.HTML object>"
      ]
     },
     "metadata": {},
     "output_type": "display_data"
    },
    {
     "data": {
      "text/html": [
       "Syncing run <strong><a href='https://wandb.ai/ngkanos-youngstown-state-university/uncategorized/runs/7e245iwa' target=\"_blank\">flowing-pond-4</a></strong> to <a href='https://wandb.ai/ngkanos-youngstown-state-university/uncategorized' target=\"_blank\">Weights & Biases</a> (<a href='https://wandb.me/developer-guide' target=\"_blank\">docs</a>)<br>"
      ],
      "text/plain": [
       "<IPython.core.display.HTML object>"
      ]
     },
     "metadata": {},
     "output_type": "display_data"
    },
    {
     "data": {
      "text/html": [
       " View project at <a href='https://wandb.ai/ngkanos-youngstown-state-university/uncategorized' target=\"_blank\">https://wandb.ai/ngkanos-youngstown-state-university/uncategorized</a>"
      ],
      "text/plain": [
       "<IPython.core.display.HTML object>"
      ]
     },
     "metadata": {},
     "output_type": "display_data"
    },
    {
     "data": {
      "text/html": [
       " View run at <a href='https://wandb.ai/ngkanos-youngstown-state-university/uncategorized/runs/7e245iwa' target=\"_blank\">https://wandb.ai/ngkanos-youngstown-state-university/uncategorized/runs/7e245iwa</a>"
      ],
      "text/plain": [
       "<IPython.core.display.HTML object>"
      ]
     },
     "metadata": {},
     "output_type": "display_data"
    },
    {
     "data": {
      "text/html": [
       "Finishing previous runs because reinit is set to 'default'."
      ],
      "text/plain": [
       "<IPython.core.display.HTML object>"
      ]
     },
     "metadata": {},
     "output_type": "display_data"
    },
    {
     "data": {
      "text/html": [],
      "text/plain": [
       "<IPython.core.display.HTML object>"
      ]
     },
     "metadata": {},
     "output_type": "display_data"
    },
    {
     "data": {
      "text/html": [
       " View run <strong style=\"color:#cdcd00\">flowing-pond-4</strong> at: <a href='https://wandb.ai/ngkanos-youngstown-state-university/uncategorized/runs/7e245iwa' target=\"_blank\">https://wandb.ai/ngkanos-youngstown-state-university/uncategorized/runs/7e245iwa</a><br> View project at: <a href='https://wandb.ai/ngkanos-youngstown-state-university/uncategorized' target=\"_blank\">https://wandb.ai/ngkanos-youngstown-state-university/uncategorized</a><br>Synced 5 W&B file(s), 0 media file(s), 0 artifact file(s) and 0 other file(s)"
      ],
      "text/plain": [
       "<IPython.core.display.HTML object>"
      ]
     },
     "metadata": {},
     "output_type": "display_data"
    },
    {
     "data": {
      "text/html": [
       "Find logs at: <code>./wandb/run-20250601_005227-7e245iwa/logs</code>"
      ],
      "text/plain": [
       "<IPython.core.display.HTML object>"
      ]
     },
     "metadata": {},
     "output_type": "display_data"
    },
    {
     "data": {
      "text/html": [
       "Tracking run with wandb version 0.19.11"
      ],
      "text/plain": [
       "<IPython.core.display.HTML object>"
      ]
     },
     "metadata": {},
     "output_type": "display_data"
    },
    {
     "data": {
      "text/html": [
       "Run data is saved locally in <code>/home/nicholas/wandb/run-20250601_005227-pizlunym</code>"
      ],
      "text/plain": [
       "<IPython.core.display.HTML object>"
      ]
     },
     "metadata": {},
     "output_type": "display_data"
    },
    {
     "data": {
      "text/html": [
       "Syncing run <strong><a href='https://wandb.ai/ngkanos-youngstown-state-university/ptbxl-cnn/runs/pizlunym' target=\"_blank\">cnn-multilabel-run-1748753547</a></strong> to <a href='https://wandb.ai/ngkanos-youngstown-state-university/ptbxl-cnn' target=\"_blank\">Weights & Biases</a> (<a href='https://wandb.me/developer-guide' target=\"_blank\">docs</a>)<br>"
      ],
      "text/plain": [
       "<IPython.core.display.HTML object>"
      ]
     },
     "metadata": {},
     "output_type": "display_data"
    },
    {
     "data": {
      "text/html": [
       " View project at <a href='https://wandb.ai/ngkanos-youngstown-state-university/ptbxl-cnn' target=\"_blank\">https://wandb.ai/ngkanos-youngstown-state-university/ptbxl-cnn</a>"
      ],
      "text/plain": [
       "<IPython.core.display.HTML object>"
      ]
     },
     "metadata": {},
     "output_type": "display_data"
    },
    {
     "data": {
      "text/html": [
       " View run at <a href='https://wandb.ai/ngkanos-youngstown-state-university/ptbxl-cnn/runs/pizlunym' target=\"_blank\">https://wandb.ai/ngkanos-youngstown-state-university/ptbxl-cnn/runs/pizlunym</a>"
      ],
      "text/plain": [
       "<IPython.core.display.HTML object>"
      ]
     },
     "metadata": {},
     "output_type": "display_data"
    }
   ],
   "source": [
    "# 7. Initialize Weights & Biases\n",
    "epochs = 15\n",
    "wandb.init(settings=wandb.Settings(start_method=\"fork\", _disable_stats=False))\n",
    "wandb.init(\n",
    "    project=\"ptbxl-cnn\",\n",
    "    name=f\"cnn-multilabel-run-{int(time.time())}\",# unique name using timestamp\n",
    "    settings=wandb.Settings(start_method=\"fork\", _disable_stats=False)\n",
    ")\n",
    "\n",
    "\n",
    "wandb.config.update({\n",
    "    \"epochs\": epochs,\n",
    "    \"batch_size\": 32,\n",
    "    \"learning_rate\": 0.001,\n",
    "    \"architecture\": \"1D CNN Multi-label PTB-XL\",\n",
    "    \"dataset\": \"PTB-XL Top 10 Classes\"\n",
    "})"
   ]
  },
  {
   "cell_type": "code",
   "execution_count": 11,
   "id": "aed887df-735a-4a23-9cc5-405c2302cab1",
   "metadata": {},
   "outputs": [
    {
     "name": "stderr",
     "output_type": "stream",
     "text": [
      "Epoch 1/15: 100%|█████████████████| 523/523 [00:11<00:00, 47.08it/s, loss=0.337]\n"
     ]
    },
    {
     "name": "stdout",
     "output_type": "stream",
     "text": [
      "Epoch 1, Loss: 0.3688, Accuracy: 0.8568\n"
     ]
    },
    {
     "name": "stderr",
     "output_type": "stream",
     "text": [
      "Epoch 2/15: 100%|█████████████████| 523/523 [00:10<00:00, 48.48it/s, loss=0.293]\n"
     ]
    },
    {
     "name": "stdout",
     "output_type": "stream",
     "text": [
      "Epoch 2, Loss: 0.3170, Accuracy: 0.8803\n"
     ]
    },
    {
     "name": "stderr",
     "output_type": "stream",
     "text": [
      "Epoch 3/15: 100%|██████████████████| 523/523 [00:11<00:00, 46.70it/s, loss=0.33]\n"
     ]
    },
    {
     "name": "stdout",
     "output_type": "stream",
     "text": [
      "Epoch 3, Loss: 0.2986, Accuracy: 0.8845\n"
     ]
    },
    {
     "name": "stderr",
     "output_type": "stream",
     "text": [
      "Epoch 4/15: 100%|█████████████████| 523/523 [00:10<00:00, 49.71it/s, loss=0.257]\n"
     ]
    },
    {
     "name": "stdout",
     "output_type": "stream",
     "text": [
      "Epoch 4, Loss: 0.2896, Accuracy: 0.8868\n"
     ]
    },
    {
     "name": "stderr",
     "output_type": "stream",
     "text": [
      "Epoch 5/15: 100%|█████████████████| 523/523 [00:11<00:00, 47.43it/s, loss=0.277]\n"
     ]
    },
    {
     "name": "stdout",
     "output_type": "stream",
     "text": [
      "Epoch 5, Loss: 0.2839, Accuracy: 0.8886\n"
     ]
    },
    {
     "name": "stderr",
     "output_type": "stream",
     "text": [
      "Epoch 6/15: 100%|█████████████████| 523/523 [00:10<00:00, 51.64it/s, loss=0.265]\n"
     ]
    },
    {
     "name": "stdout",
     "output_type": "stream",
     "text": [
      "Epoch 6, Loss: 0.2773, Accuracy: 0.8897\n"
     ]
    },
    {
     "name": "stderr",
     "output_type": "stream",
     "text": [
      "Epoch 7/15: 100%|█████████████████| 523/523 [00:10<00:00, 50.04it/s, loss=0.223]\n"
     ]
    },
    {
     "name": "stdout",
     "output_type": "stream",
     "text": [
      "Epoch 7, Loss: 0.2674, Accuracy: 0.8930\n"
     ]
    },
    {
     "name": "stderr",
     "output_type": "stream",
     "text": [
      "Epoch 8/15: 100%|█████████████████| 523/523 [00:11<00:00, 47.21it/s, loss=0.256]\n"
     ]
    },
    {
     "name": "stdout",
     "output_type": "stream",
     "text": [
      "Epoch 8, Loss: 0.2622, Accuracy: 0.8946\n"
     ]
    },
    {
     "name": "stderr",
     "output_type": "stream",
     "text": [
      "Epoch 9/15: 100%|█████████████████| 523/523 [00:10<00:00, 50.23it/s, loss=0.266]\n"
     ]
    },
    {
     "name": "stdout",
     "output_type": "stream",
     "text": [
      "Epoch 9, Loss: 0.2572, Accuracy: 0.8961\n"
     ]
    },
    {
     "name": "stderr",
     "output_type": "stream",
     "text": [
      "Epoch 10/15: 100%|████████████████| 523/523 [00:10<00:00, 51.59it/s, loss=0.303]\n"
     ]
    },
    {
     "name": "stdout",
     "output_type": "stream",
     "text": [
      "Epoch 10, Loss: 0.2537, Accuracy: 0.8978\n"
     ]
    },
    {
     "name": "stderr",
     "output_type": "stream",
     "text": [
      "Epoch 11/15: 100%|████████████████| 523/523 [00:10<00:00, 51.30it/s, loss=0.256]\n"
     ]
    },
    {
     "name": "stdout",
     "output_type": "stream",
     "text": [
      "Epoch 11, Loss: 0.2489, Accuracy: 0.8996\n"
     ]
    },
    {
     "name": "stderr",
     "output_type": "stream",
     "text": [
      "Epoch 12/15: 100%|████████████████| 523/523 [00:10<00:00, 51.29it/s, loss=0.251]\n"
     ]
    },
    {
     "name": "stdout",
     "output_type": "stream",
     "text": [
      "Epoch 12, Loss: 0.2428, Accuracy: 0.9020\n"
     ]
    },
    {
     "name": "stderr",
     "output_type": "stream",
     "text": [
      "Epoch 13/15: 100%|████████████████| 523/523 [00:09<00:00, 52.49it/s, loss=0.196]\n"
     ]
    },
    {
     "name": "stdout",
     "output_type": "stream",
     "text": [
      "Epoch 13, Loss: 0.2364, Accuracy: 0.9047\n"
     ]
    },
    {
     "name": "stderr",
     "output_type": "stream",
     "text": [
      "Epoch 14/15: 100%|█████████████████| 523/523 [00:10<00:00, 50.82it/s, loss=0.23]\n"
     ]
    },
    {
     "name": "stdout",
     "output_type": "stream",
     "text": [
      "Epoch 14, Loss: 0.2312, Accuracy: 0.9061\n"
     ]
    },
    {
     "name": "stderr",
     "output_type": "stream",
     "text": [
      "Epoch 15/15: 100%|████████████████| 523/523 [00:10<00:00, 49.69it/s, loss=0.183]"
     ]
    },
    {
     "name": "stdout",
     "output_type": "stream",
     "text": [
      "Epoch 15, Loss: 0.2271, Accuracy: 0.9072\n"
     ]
    },
    {
     "name": "stderr",
     "output_type": "stream",
     "text": [
      "\n"
     ]
    }
   ],
   "source": [
    "# 8. Train\n",
    "device = torch.device(\"cuda\" if torch.cuda.is_available() else \"cpu\")\n",
    "model = ECG_CNN(num_classes=len(target_labels)).to(device)\n",
    "criterion = nn.BCEWithLogitsLoss()\n",
    "optimizer = torch.optim.Adam(model.parameters(), lr=0.001)\n",
    "\n",
    "for epoch in range(epochs):\n",
    "    model.train()\n",
    "    total_loss = 0\n",
    "    correct = 0\n",
    "    total = 0\n",
    "\n",
    "    train_loader_tqdm = tqdm(train_loader, desc=f\"Epoch {epoch+1}/{epochs}\")\n",
    "\n",
    "    for signals, labels in train_loader_tqdm:\n",
    "        signals, labels = signals.to(device), labels.to(device)\n",
    "        signals = signals.permute(0, 1, 2)\n",
    "\n",
    "        optimizer.zero_grad()\n",
    "        outputs = model(signals)\n",
    "        loss = criterion(outputs, labels)\n",
    "        loss.backward()\n",
    "        optimizer.step()\n",
    "\n",
    "        total_loss += loss.item()\n",
    "\n",
    "        preds = (torch.sigmoid(outputs) > 0.5).float()\n",
    "        acc = (preds == labels).float().mean().item()\n",
    "        correct += acc\n",
    "        total += 1\n",
    "\n",
    "        train_loader_tqdm.set_postfix(loss=loss.item())\n",
    "\n",
    "    avg_loss = total_loss / len(train_loader)\n",
    "    avg_acc = correct / total\n",
    "\n",
    "    print(f\"Epoch {epoch+1}, Loss: {avg_loss:.4f}, Accuracy: {avg_acc:.4f}\")\n",
    "    wandb.log({\"epoch\": epoch+1, \"loss\": avg_loss, \"accuracy\": avg_acc})\n"
   ]
  },
  {
   "cell_type": "code",
   "execution_count": 12,
   "id": "a19d61f0-9006-45c5-8ec2-95497536c69f",
   "metadata": {},
   "outputs": [
    {
     "data": {
      "text/html": [],
      "text/plain": [
       "<IPython.core.display.HTML object>"
      ]
     },
     "metadata": {},
     "output_type": "display_data"
    },
    {
     "data": {
      "text/html": [
       "<br>    <style><br>        .wandb-row {<br>            display: flex;<br>            flex-direction: row;<br>            flex-wrap: wrap;<br>            justify-content: flex-start;<br>            width: 100%;<br>        }<br>        .wandb-col {<br>            display: flex;<br>            flex-direction: column;<br>            flex-basis: 100%;<br>            flex: 1;<br>            padding: 10px;<br>        }<br>    </style><br><div class=\"wandb-row\"><div class=\"wandb-col\"><h3>Run history:</h3><br/><table class=\"wandb\"><tr><td>accuracy</td><td>▁▄▅▅▅▆▆▆▆▇▇▇███</td></tr><tr><td>epoch</td><td>▁▁▂▃▃▃▄▅▅▅▆▇▇▇█</td></tr><tr><td>loss</td><td>█▅▅▄▄▃▃▃▂▂▂▂▁▁▁</td></tr></table><br/></div><div class=\"wandb-col\"><h3>Run summary:</h3><br/><table class=\"wandb\"><tr><td>accuracy</td><td>0.90719</td></tr><tr><td>epoch</td><td>15</td></tr><tr><td>loss</td><td>0.22715</td></tr></table><br/></div></div>"
      ],
      "text/plain": [
       "<IPython.core.display.HTML object>"
      ]
     },
     "metadata": {},
     "output_type": "display_data"
    },
    {
     "data": {
      "text/html": [
       " View run <strong style=\"color:#cdcd00\">cnn-multilabel-run-1748753547</strong> at: <a href='https://wandb.ai/ngkanos-youngstown-state-university/ptbxl-cnn/runs/pizlunym' target=\"_blank\">https://wandb.ai/ngkanos-youngstown-state-university/ptbxl-cnn/runs/pizlunym</a><br> View project at: <a href='https://wandb.ai/ngkanos-youngstown-state-university/ptbxl-cnn' target=\"_blank\">https://wandb.ai/ngkanos-youngstown-state-university/ptbxl-cnn</a><br>Synced 5 W&B file(s), 0 media file(s), 0 artifact file(s) and 0 other file(s)"
      ],
      "text/plain": [
       "<IPython.core.display.HTML object>"
      ]
     },
     "metadata": {},
     "output_type": "display_data"
    },
    {
     "data": {
      "text/html": [
       "Find logs at: <code>./wandb/run-20250601_005227-pizlunym/logs</code>"
      ],
      "text/plain": [
       "<IPython.core.display.HTML object>"
      ]
     },
     "metadata": {},
     "output_type": "display_data"
    }
   ],
   "source": [
    "wandb.finish()"
   ]
  },
  {
   "cell_type": "markdown",
   "id": "5b7e37ae-4484-4648-9a39-f81737184f62",
   "metadata": {
    "jp-MarkdownHeadingCollapsed": true
   },
   "source": []
  }
 ],
 "metadata": {
  "kernelspec": {
   "display_name": "pytorch",
   "language": "python",
   "name": "pytorch"
  },
  "language_info": {
   "codemirror_mode": {
    "name": "ipython",
    "version": 3
   },
   "file_extension": ".py",
   "mimetype": "text/x-python",
   "name": "python",
   "nbconvert_exporter": "python",
   "pygments_lexer": "ipython3",
   "version": "3.10.16"
  }
 },
 "nbformat": 4,
 "nbformat_minor": 5
}
