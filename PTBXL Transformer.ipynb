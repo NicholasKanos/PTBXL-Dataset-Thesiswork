{
 "cells": [
  {
   "cell_type": "code",
   "execution_count": 1,
   "id": "90a4d78d-878b-43a4-b857-7a137b2a15f7",
   "metadata": {},
   "outputs": [],
   "source": [
    "# PTB-XL Transformer Version \n",
    "\n",
    "import os\n",
    "import pandas as pd\n",
    "import numpy as np\n",
    "import ast\n",
    "import wfdb\n",
    "import torch\n",
    "import torch.nn as nn\n",
    "import matplotlib.pyplot as plt\n",
    "from sklearn.metrics import roc_curve, auc\n",
    "from torch.utils.data import Dataset, DataLoader\n",
    "from sklearn.preprocessing import MultiLabelBinarizer\n",
    "from sklearn.model_selection import train_test_split\n",
    "from sklearn.metrics import classification_report, roc_auc_score\n",
    "from tqdm import tqdm\n",
    "from scipy.signal import resample"
   ]
  },
  {
   "cell_type": "code",
   "execution_count": 2,
   "id": "15bb2ffa-180e-493d-a766-f66e50fa1370",
   "metadata": {},
   "outputs": [],
   "source": [
    "# Paths\n",
    "ptbxl_path = \"/media/nicholas/Storage/Datasets/ptb-xl-a-large-publicly-available-electrocardiography-dataset-1.0.3/ptbxl_database.csv\"\n",
    "scp_path = \"/media/nicholas/Storage/Datasets/ptb-xl-a-large-publicly-available-electrocardiography-dataset-1.0.3/scp_statements.csv\"\n",
    "waveform_path = \"/media/nicholas/Storage/Datasets/ptb-xl-a-large-publicly-available-electrocardiography-dataset-1.0.3\""
   ]
  },
  {
   "cell_type": "code",
   "execution_count": 3,
   "id": "f4843d78-29b4-49e6-87ce-b4709311e74f",
   "metadata": {},
   "outputs": [
    {
     "name": "stdout",
     "output_type": "stream",
     "text": [
      "Remaining samples: 20904\n"
     ]
    }
   ],
   "source": [
    "# Load CSV & SCP mappings\n",
    "df = pd.read_csv(ptbxl_path)\n",
    "scp_df = pd.read_csv(scp_path)\n",
    "df['scp_codes'] = df['scp_codes'].apply(ast.literal_eval)\n",
    "df['scp_keys'] = df['scp_codes'].apply(lambda x: list(x.keys()))\n",
    "\n",
    "target_labels = ['NORM', 'SR', 'AFIB', 'PVC', 'LVH', 'ABQRS', 'IMI', 'ASMI', 'LAFB', 'IRBBB']\n",
    "df['scp_filtered'] = df['scp_keys'].apply(lambda x: [k for k in x if k in target_labels])\n",
    "df = df[df['scp_filtered'].map(len) > 0]\n",
    "\n",
    "mlb = MultiLabelBinarizer(classes=target_labels)\n",
    "y = mlb.fit_transform(df['scp_filtered'])\n",
    "print(f\"Remaining samples: {len(df)}\")"
   ]
  },
  {
   "cell_type": "code",
   "execution_count": 4,
   "id": "e3f21931-fd84-414f-b772-295f91c817c9",
   "metadata": {},
   "outputs": [],
   "source": [
    "# Train-test split\n",
    "X_train, X_test, y_train, y_test = train_test_split(df, y, test_size=0.2, random_state=42)"
   ]
  },
  {
   "cell_type": "code",
   "execution_count": 5,
   "id": "920269ee-d799-45cc-a528-16fb393c4265",
   "metadata": {},
   "outputs": [],
   "source": [
    "# ECG waveform loader (downsample to 1000 for Transformer)\n",
    "def load_ecg(record_path, signal_len=5000, downsample_to=1000):\n",
    "    record = wfdb.rdrecord(record_path)\n",
    "    signal = record.p_signal.T\n",
    "    if signal.shape[1] < signal_len:\n",
    "        pad_width = signal_len - signal.shape[1]\n",
    "        signal = np.pad(signal, ((0,0),(0,pad_width)), 'constant')\n",
    "    else:\n",
    "        signal = signal[:, :signal_len]\n",
    "    signal = resample(signal, downsample_to, axis=1)\n",
    "    return signal"
   ]
  },
  {
   "cell_type": "code",
   "execution_count": 6,
   "id": "2f413848-7f07-473c-ad4e-0be238b28b58",
   "metadata": {},
   "outputs": [],
   "source": [
    "# PyTorch Dataset\n",
    "class PTBXL_Dataset(Dataset):\n",
    "    def __init__(self, df, labels, base_dir, signal_len=5000, downsample_to=1000):\n",
    "        self.df = df\n",
    "        self.labels = labels\n",
    "        self.base_dir = base_dir\n",
    "        self.signal_len = signal_len\n",
    "        self.downsample_to = downsample_to\n",
    "\n",
    "    def __len__(self):\n",
    "        return len(self.df)\n",
    "\n",
    "    def __getitem__(self, idx):\n",
    "        row = self.df.iloc[idx]\n",
    "        full_path = os.path.join(self.base_dir, row['filename_lr'])\n",
    "        signal = load_ecg(full_path, self.signal_len, self.downsample_to)\n",
    "        signal = signal.T  # (time, features)\n",
    "        return torch.tensor(signal, dtype=torch.float32), torch.tensor(self.labels[idx], dtype=torch.float32)"
   ]
  },
  {
   "cell_type": "code",
   "execution_count": 7,
   "id": "86bc0e66-eb9a-4f64-9bb9-28a559ab7c96",
   "metadata": {},
   "outputs": [],
   "source": [
    "# DataLoaders\n",
    "train_dataset = PTBXL_Dataset(X_train, y_train, waveform_path)\n",
    "test_dataset = PTBXL_Dataset(X_test, y_test, waveform_path)\n",
    "\n",
    "train_loader = DataLoader(train_dataset, batch_size=8, shuffle=True, num_workers=4, pin_memory=True)\n",
    "test_loader = DataLoader(test_dataset, batch_size=8, num_workers=4, pin_memory=True)"
   ]
  },
  {
   "cell_type": "code",
   "execution_count": 8,
   "id": "afd97b47-bd05-468c-95e6-99bac3c353eb",
   "metadata": {},
   "outputs": [],
   "source": [
    "# Transformer Model\n",
    "class ECG_Transformer(nn.Module):\n",
    "    def __init__(self, seq_len=1000, num_features=12, d_model=32, nhead=2, num_layers=2, num_classes=10):\n",
    "        super(ECG_Transformer, self).__init__()\n",
    "        self.input_linear = nn.Linear(num_features, d_model)\n",
    "        encoder_layer = nn.TransformerEncoderLayer(d_model=d_model, nhead=nhead, batch_first=True)\n",
    "        self.transformer_encoder = nn.TransformerEncoder(encoder_layer, num_layers=num_layers)\n",
    "        self.global_avg_pool = nn.AdaptiveAvgPool1d(1)\n",
    "        self.fc = nn.Linear(d_model, num_classes)\n",
    "\n",
    "    def forward(self, x):\n",
    "        x = self.input_linear(x)\n",
    "        x = self.transformer_encoder(x)\n",
    "        x = x.permute(0, 2, 1)\n",
    "        x = self.global_avg_pool(x).squeeze(-1)\n",
    "        x = self.fc(x)\n",
    "        return x"
   ]
  },
  {
   "cell_type": "code",
   "execution_count": 9,
   "id": "1f950e0f-2da5-47cb-b380-2fa9cf82c674",
   "metadata": {},
   "outputs": [
    {
     "name": "stderr",
     "output_type": "stream",
     "text": [
      "Epoch 1/10:  16%|██▌             | 327/2091 [00:05<00:32, 54.90it/s, loss=0.379]\n"
     ]
    },
    {
     "ename": "KeyboardInterrupt",
     "evalue": "",
     "output_type": "error",
     "traceback": [
      "\u001b[0;31m---------------------------------------------------------------------------\u001b[0m",
      "\u001b[0;31mKeyboardInterrupt\u001b[0m                         Traceback (most recent call last)",
      "Cell \u001b[0;32mIn[9], line 26\u001b[0m\n\u001b[1;32m     24\u001b[0m loss\u001b[38;5;241m.\u001b[39mbackward()\n\u001b[1;32m     25\u001b[0m optimizer\u001b[38;5;241m.\u001b[39mstep()\n\u001b[0;32m---> 26\u001b[0m total_loss \u001b[38;5;241m+\u001b[39m\u001b[38;5;241m=\u001b[39m \u001b[43mloss\u001b[49m\u001b[38;5;241;43m.\u001b[39;49m\u001b[43mitem\u001b[49m\u001b[43m(\u001b[49m\u001b[43m)\u001b[49m\n\u001b[1;32m     27\u001b[0m preds \u001b[38;5;241m=\u001b[39m (torch\u001b[38;5;241m.\u001b[39msigmoid(outputs) \u001b[38;5;241m>\u001b[39m \u001b[38;5;241m0.5\u001b[39m)\u001b[38;5;241m.\u001b[39mfloat()\n\u001b[1;32m     28\u001b[0m acc \u001b[38;5;241m=\u001b[39m (preds \u001b[38;5;241m==\u001b[39m labels)\u001b[38;5;241m.\u001b[39mfloat()\u001b[38;5;241m.\u001b[39mmean()\u001b[38;5;241m.\u001b[39mitem()\n",
      "\u001b[0;31mKeyboardInterrupt\u001b[0m: "
     ]
    }
   ],
   "source": [
    "# Model Training\n",
    "\n",
    "device = torch.device(\"cuda\" if torch.cuda.is_available() else \"cpu\")\n",
    "model = ECG_Transformer(seq_len=1000, num_features=12, num_classes=len(target_labels)).to(device)\n",
    "criterion = nn.BCEWithLogitsLoss()\n",
    "optimizer = torch.optim.Adam(model.parameters(), lr=0.001)\n",
    "\n",
    "epochs = 10\n",
    "losses = []\n",
    "accuracies = []\n",
    "\n",
    "for epoch in range(epochs):\n",
    "    model.train()\n",
    "    total_loss = 0\n",
    "    correct = 0\n",
    "    total = 0\n",
    "\n",
    "    train_loader_tqdm = tqdm(train_loader, desc=f\"Epoch {epoch+1}/{epochs}\")\n",
    "    for signals, labels in train_loader_tqdm:\n",
    "        signals, labels = signals.to(device), labels.to(device)\n",
    "        optimizer.zero_grad()\n",
    "        outputs = model(signals)\n",
    "        loss = criterion(outputs, labels)\n",
    "        loss.backward()\n",
    "        optimizer.step()\n",
    "        total_loss += loss.item()\n",
    "        preds = (torch.sigmoid(outputs) > 0.5).float()\n",
    "        acc = (preds == labels).float().mean().item()\n",
    "        correct += acc\n",
    "        total += 1\n",
    "        train_loader_tqdm.set_postfix(loss=loss.item())\n",
    "        losses.append(total_loss / len(train_loader))\n",
    "    accuracies.append(correct / total)\n",
    "    print(f\"Epoch {epoch+1}, Avg Loss: {total_loss/len(train_loader):.4f}, Avg Accuracy: {correct/total:.4f}\")\n",
    "    "
   ]
  },
  {
   "cell_type": "code",
   "execution_count": null,
   "id": "28bd546b-7b1e-4023-8389-e613126eafb8",
   "metadata": {},
   "outputs": [],
   "source": [
    "# Evaluation\n",
    "\n",
    "model.eval()\n",
    "y_true, y_pred = [], []\n",
    "with torch.no_grad():\n",
    "    for signals, labels in test_loader:\n",
    "        signals, labels = signals.to(device), labels.to(device)\n",
    "        outputs = model(signals)\n",
    "        y_true.append(labels.cpu().numpy())\n",
    "        y_pred.append(torch.sigmoid(outputs).cpu().numpy())\n",
    "\n",
    "y_true = np.vstack(y_true)\n",
    "y_pred = np.vstack(y_pred)\n",
    "\n",
    "print(\"Classification Report:\")\n",
    "print(classification_report(y_true > 0.5, y_pred > 0.5, target_names=mlb.classes_))\n",
    "print(\"Macro ROC-AUC:\", roc_auc_score(y_true, y_pred, average='macro'))"
   ]
  },
  {
   "cell_type": "code",
   "execution_count": null,
   "id": "22f3c3a5-020b-4b36-b015-5ab0032cb2a1",
   "metadata": {},
   "outputs": [],
   "source": [
    "# Plot ROC curve for each class\n",
    "plt.figure(figsize=(12, 8))\n",
    "for i, label in enumerate(mlb.classes_):\n",
    "    fpr, tpr, _ = roc_curve(y_true[:, i], y_pred[:, i])\n",
    "    roc_auc = auc(fpr, tpr)\n",
    "    plt.plot(fpr, tpr, label=f'{label} (AUC = {roc_auc:.2f})')\n",
    "\n",
    "plt.plot([0, 1], [0, 1], linestyle='--', color='gray')\n",
    "plt.xlabel('False Positive Rate')\n",
    "plt.ylabel('True Positive Rate')\n",
    "plt.title('Multi-Label ROC Curves (Transformer)')\n",
    "plt.legend(loc='lower right', fontsize='small')\n",
    "plt.grid(True)\n",
    "plt.show()"
   ]
  }
 ],
 "metadata": {
  "kernelspec": {
   "display_name": "pytorch",
   "language": "python",
   "name": "pytorch"
  },
  "language_info": {
   "codemirror_mode": {
    "name": "ipython",
    "version": 3
   },
   "file_extension": ".py",
   "mimetype": "text/x-python",
   "name": "python",
   "nbconvert_exporter": "python",
   "pygments_lexer": "ipython3",
   "version": "3.10.16"
  }
 },
 "nbformat": 4,
 "nbformat_minor": 5
}
